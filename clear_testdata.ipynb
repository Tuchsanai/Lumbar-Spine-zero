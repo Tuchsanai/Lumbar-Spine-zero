{
 "cells": [
  {
   "cell_type": "code",
   "execution_count": 13,
   "metadata": {},
   "outputs": [
    {
     "data": {
      "text/html": [
       "<div>\n",
       "<style scoped>\n",
       "    .dataframe tbody tr th:only-of-type {\n",
       "        vertical-align: middle;\n",
       "    }\n",
       "\n",
       "    .dataframe tbody tr th {\n",
       "        vertical-align: top;\n",
       "    }\n",
       "\n",
       "    .dataframe thead th {\n",
       "        text-align: right;\n",
       "    }\n",
       "</style>\n",
       "<table border=\"1\" class=\"dataframe\">\n",
       "  <thead>\n",
       "    <tr style=\"text-align: right;\">\n",
       "      <th></th>\n",
       "      <th>Image</th>\n",
       "      <th>Label</th>\n",
       "      <th>Source_path</th>\n",
       "    </tr>\n",
       "  </thead>\n",
       "  <tbody>\n",
       "    <tr>\n",
       "      <th>0</th>\n",
       "      <td>575.jpg</td>\n",
       "      <td>LA</td>\n",
       "      <td>./BUU-LSPINE (Vertebral position)/test/575.jpg</td>\n",
       "    </tr>\n",
       "    <tr>\n",
       "      <th>1</th>\n",
       "      <td>422.jpg</td>\n",
       "      <td>AP</td>\n",
       "      <td>./BUU-LSPINE (Vertebral position)/test/422.jpg</td>\n",
       "    </tr>\n",
       "    <tr>\n",
       "      <th>2</th>\n",
       "      <td>477.jpg</td>\n",
       "      <td>AP</td>\n",
       "      <td>./BUU-LSPINE (Vertebral position)/test/477.jpg</td>\n",
       "    </tr>\n",
       "    <tr>\n",
       "      <th>3</th>\n",
       "      <td>564.jpg</td>\n",
       "      <td>LA</td>\n",
       "      <td>./BUU-LSPINE (Vertebral position)/test/564.jpg</td>\n",
       "    </tr>\n",
       "    <tr>\n",
       "      <th>4</th>\n",
       "      <td>547.jpg</td>\n",
       "      <td>LA</td>\n",
       "      <td>./BUU-LSPINE (Vertebral position)/test/547.jpg</td>\n",
       "    </tr>\n",
       "    <tr>\n",
       "      <th>...</th>\n",
       "      <td>...</td>\n",
       "      <td>...</td>\n",
       "      <td>...</td>\n",
       "    </tr>\n",
       "    <tr>\n",
       "      <th>195</th>\n",
       "      <td>551.jpg</td>\n",
       "      <td>LA</td>\n",
       "      <td>./BUU-LSPINE (Vertebral position)/test/551.jpg</td>\n",
       "    </tr>\n",
       "    <tr>\n",
       "      <th>196</th>\n",
       "      <td>588.jpg</td>\n",
       "      <td>LA</td>\n",
       "      <td>./BUU-LSPINE (Vertebral position)/test/588.jpg</td>\n",
       "    </tr>\n",
       "    <tr>\n",
       "      <th>197</th>\n",
       "      <td>415.jpg</td>\n",
       "      <td>AP</td>\n",
       "      <td>./BUU-LSPINE (Vertebral position)/test/415.jpg</td>\n",
       "    </tr>\n",
       "    <tr>\n",
       "      <th>198</th>\n",
       "      <td>498.jpg</td>\n",
       "      <td>AP</td>\n",
       "      <td>./BUU-LSPINE (Vertebral position)/test/498.jpg</td>\n",
       "    </tr>\n",
       "    <tr>\n",
       "      <th>199</th>\n",
       "      <td>412.jpg</td>\n",
       "      <td>AP</td>\n",
       "      <td>./BUU-LSPINE (Vertebral position)/test/412.jpg</td>\n",
       "    </tr>\n",
       "  </tbody>\n",
       "</table>\n",
       "<p>200 rows × 3 columns</p>\n",
       "</div>"
      ],
      "text/plain": [
       "       Image Label                                     Source_path\n",
       "0    575.jpg    LA  ./BUU-LSPINE (Vertebral position)/test/575.jpg\n",
       "1    422.jpg    AP  ./BUU-LSPINE (Vertebral position)/test/422.jpg\n",
       "2    477.jpg    AP  ./BUU-LSPINE (Vertebral position)/test/477.jpg\n",
       "3    564.jpg    LA  ./BUU-LSPINE (Vertebral position)/test/564.jpg\n",
       "4    547.jpg    LA  ./BUU-LSPINE (Vertebral position)/test/547.jpg\n",
       "..       ...   ...                                             ...\n",
       "195  551.jpg    LA  ./BUU-LSPINE (Vertebral position)/test/551.jpg\n",
       "196  588.jpg    LA  ./BUU-LSPINE (Vertebral position)/test/588.jpg\n",
       "197  415.jpg    AP  ./BUU-LSPINE (Vertebral position)/test/415.jpg\n",
       "198  498.jpg    AP  ./BUU-LSPINE (Vertebral position)/test/498.jpg\n",
       "199  412.jpg    AP  ./BUU-LSPINE (Vertebral position)/test/412.jpg\n",
       "\n",
       "[200 rows x 3 columns]"
      ]
     },
     "execution_count": 13,
     "metadata": {},
     "output_type": "execute_result"
    }
   ],
   "source": [
    "import pandas as pd\n",
    "\n",
    "df =pd.read_csv('position.csv')\n",
    "\n",
    "df['Source_path'] = df['Image'].apply(lambda x: \"./BUU-LSPINE (Vertebral position)/test/\"+x )\n",
    "\n",
    "df\n"
   ]
  },
  {
   "cell_type": "code",
   "execution_count": 14,
   "metadata": {},
   "outputs": [
    {
     "data": {
      "text/plain": [
       "LA    100\n",
       "AP    100\n",
       "Name: Label, dtype: int64"
      ]
     },
     "execution_count": 14,
     "metadata": {},
     "output_type": "execute_result"
    }
   ],
   "source": [
    "df['Label'].value_counts()"
   ]
  },
  {
   "cell_type": "code",
   "execution_count": 15,
   "metadata": {},
   "outputs": [],
   "source": [
    "\n",
    "%rm -rf ./class_data\n",
    "%mkdir  class_data\n",
    "%mkdir  class_data/LA\n",
    "%mkdir  class_data/AP"
   ]
  },
  {
   "cell_type": "code",
   "execution_count": 16,
   "metadata": {},
   "outputs": [
    {
     "data": {
      "text/plain": [
       "0      None\n",
       "1      None\n",
       "2      None\n",
       "3      None\n",
       "4      None\n",
       "       ... \n",
       "195    None\n",
       "196    None\n",
       "197    None\n",
       "198    None\n",
       "199    None\n",
       "Length: 200, dtype: object"
      ]
     },
     "execution_count": 16,
     "metadata": {},
     "output_type": "execute_result"
    }
   ],
   "source": [
    "import shutil\n",
    "\n",
    "\n",
    "\n",
    "def v(x) :\n",
    "    source = x['Source_path']\n",
    "    vclass  = x['Label']\n",
    "    if vclass == 'LA':\n",
    "       dest = \"./class_data/LA/\"+source.split('/')[-1]\n",
    "       shutil.copyfile(source, dest)\n",
    "     \n",
    "    else :\n",
    "         dest = \"./class_data/AP/\"+source.split('/')[-1]\n",
    "         shutil.copyfile(source, dest)\n",
    "         \n",
    "           \n",
    "\n",
    "df.apply(lambda x: v(x), axis=1)"
   ]
  },
  {
   "cell_type": "code",
   "execution_count": null,
   "metadata": {},
   "outputs": [],
   "source": []
  }
 ],
 "metadata": {
  "kernelspec": {
   "display_name": "torch",
   "language": "python",
   "name": "python3"
  },
  "language_info": {
   "codemirror_mode": {
    "name": "ipython",
    "version": 3
   },
   "file_extension": ".py",
   "mimetype": "text/x-python",
   "name": "python",
   "nbconvert_exporter": "python",
   "pygments_lexer": "ipython3",
   "version": "3.8.16"
  },
  "orig_nbformat": 4
 },
 "nbformat": 4,
 "nbformat_minor": 2
}
